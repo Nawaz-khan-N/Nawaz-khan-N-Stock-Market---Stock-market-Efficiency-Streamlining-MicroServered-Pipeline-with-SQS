{
  "nbformat": 4,
  "nbformat_minor": 0,
  "metadata": {
    "colab": {
      "provenance": []
    },
    "kernelspec": {
      "name": "python3",
      "display_name": "Python 3"
    },
    "language_info": {
      "name": "python"
    }
  },
  "cells": [
    {
      "cell_type": "markdown",
      "source": [
        "### **DATA MIGRATION TO AWS & MONGODB**"
      ],
      "metadata": {
        "id": "_lHtzcJnLWxT"
      }
    },
    {
      "cell_type": "markdown",
      "source": [
        "### **Downloading Zip File to COLAB**"
      ],
      "metadata": {
        "id": "_l2ZNoXQyXPd"
      }
    },
    {
      "cell_type": "code",
      "source": [
        "import requests\n",
        "\n",
        "def download_zip_file(url, filename):\n",
        "    r = requests.get(url, stream=True, headers={'User-Agent': 'Mozilla/5.0'})\n",
        "    if r.status_code == 200:\n",
        "        with open(filename, 'wb') as f:\n",
        "            r.raw.decode_content = True\n",
        "            f.write(r.content)\n",
        "            print('Zip File Downloading Completed')\n",
        "\n",
        "\n",
        "\n",
        "url = 'https://www.sec.gov/Archives/edgar/daily-index/xbrl/companyfacts.zip'\n",
        "# filename = url.split('/')[-1]\n",
        "SourceData = \"companyfacts.zip\"\n",
        "download_zip_file(url, SourceData)"
      ],
      "metadata": {
        "colab": {
          "base_uri": "https://localhost:8080/"
        },
        "id": "TisMErntLfuQ",
        "outputId": "aaf46b50-f921-4f01-ca93-cceca3a0fe74"
      },
      "execution_count": null,
      "outputs": [
        {
          "output_type": "stream",
          "name": "stdout",
          "text": [
            "Zip File Downloading Completed\n"
          ]
        }
      ]
    },
    {
      "cell_type": "markdown",
      "source": [
        "#### **Extracting Zip file**"
      ],
      "metadata": {
        "id": "hPPptCvCLyA1"
      }
    },
    {
      "cell_type": "code",
      "source": [
        "import zipfile\n",
        "\n",
        "with zipfile.ZipFile('/content/companyfacts.zip', 'r') as zip_ref:\n",
        "    zip_ref.extractall(\"Company Facts\")"
      ],
      "metadata": {
        "id": "p2gcJzGsL48-"
      },
      "execution_count": null,
      "outputs": []
    },
    {
      "cell_type": "markdown",
      "source": [
        "#### **Connection with S3**"
      ],
      "metadata": {
        "id": "y53uo3GcvYFS"
      }
    },
    {
      "cell_type": "code",
      "source": [
        "#Install Boto3 Library to interact with AWS services\n",
        "! pip install boto3"
      ],
      "metadata": {
        "colab": {
          "base_uri": "https://localhost:8080/"
        },
        "id": "hI0qJj3Uwmzj",
        "outputId": "ab9752ee-7849-4e5f-fe50-c5319abd5d21"
      },
      "execution_count": null,
      "outputs": [
        {
          "output_type": "stream",
          "name": "stdout",
          "text": [
            "Collecting boto3\n",
            "  Downloading boto3-1.34.93-py3-none-any.whl (139 kB)\n",
            "\u001b[2K     \u001b[90m━━━━━━━━━━━━━━━━━━━━━━━━━━━━━━━━━━━━━━━━\u001b[0m \u001b[32m139.3/139.3 kB\u001b[0m \u001b[31m1.6 MB/s\u001b[0m eta \u001b[36m0:00:00\u001b[0m\n",
            "\u001b[?25hCollecting botocore<1.35.0,>=1.34.93 (from boto3)\n",
            "  Downloading botocore-1.34.93-py3-none-any.whl (12.2 MB)\n",
            "\u001b[2K     \u001b[90m━━━━━━━━━━━━━━━━━━━━━━━━━━━━━━━━━━━━━━━━\u001b[0m \u001b[32m12.2/12.2 MB\u001b[0m \u001b[31m28.8 MB/s\u001b[0m eta \u001b[36m0:00:00\u001b[0m\n",
            "\u001b[?25hCollecting jmespath<2.0.0,>=0.7.1 (from boto3)\n",
            "  Downloading jmespath-1.0.1-py3-none-any.whl (20 kB)\n",
            "Collecting s3transfer<0.11.0,>=0.10.0 (from boto3)\n",
            "  Downloading s3transfer-0.10.1-py3-none-any.whl (82 kB)\n",
            "\u001b[2K     \u001b[90m━━━━━━━━━━━━━━━━━━━━━━━━━━━━━━━━━━━━━━━━\u001b[0m \u001b[32m82.2/82.2 kB\u001b[0m \u001b[31m6.5 MB/s\u001b[0m eta \u001b[36m0:00:00\u001b[0m\n",
            "\u001b[?25hRequirement already satisfied: python-dateutil<3.0.0,>=2.1 in /usr/local/lib/python3.10/dist-packages (from botocore<1.35.0,>=1.34.93->boto3) (2.8.2)\n",
            "Requirement already satisfied: urllib3!=2.2.0,<3,>=1.25.4 in /usr/local/lib/python3.10/dist-packages (from botocore<1.35.0,>=1.34.93->boto3) (2.0.7)\n",
            "Requirement already satisfied: six>=1.5 in /usr/local/lib/python3.10/dist-packages (from python-dateutil<3.0.0,>=2.1->botocore<1.35.0,>=1.34.93->boto3) (1.16.0)\n",
            "Installing collected packages: jmespath, botocore, s3transfer, boto3\n",
            "Successfully installed boto3-1.34.93 botocore-1.34.93 jmespath-1.0.1 s3transfer-0.10.1\n"
          ]
        }
      ]
    },
    {
      "cell_type": "code",
      "source": [
        "8import boto3\n",
        "\n",
        "access_key='YOUR_ACCESS_KEY'\n",
        "secret_access_key='YOUR_SECRET_ACCESS_KEY'\n",
        "region = 'us-east-1'\n",
        "\n",
        "#Use boto3 client to connect with S3\n",
        "client = boto3.client(\n",
        "    's3',\n",
        "    aws_access_key_id=access_key,\n",
        "    aws_secret_access_key=secret_access_key\n",
        ")\n",
        "\n",
        "#Create a bucket with specified name\n",
        "#Optional  If bucket is already created in S3\n",
        "\n",
        "#client.create_bucket(Bucket = 'datamigratebucket')\n",
        "\n",
        "bucket_name = client.list_buckets()['Buckets'][0]['Name']"
      ],
      "metadata": {
        "id": "FA9pPl-8w2kv"
      },
      "execution_count": null,
      "outputs": []
    },
    {
      "cell_type": "markdown",
      "source": [
        "#### **Request to Enter Number of Random files to be uploaded in S3 bucket**"
      ],
      "metadata": {
        "id": "PzgcGUJ1x4rU"
      }
    },
    {
      "cell_type": "code",
      "source": [
        "num= int(input(\"How many files u want to upload\\n\"))"
      ],
      "metadata": {
        "colab": {
          "base_uri": "https://localhost:8080/"
        },
        "id": "oxvy8NgMwm6_",
        "outputId": "5aa3c428-8bb6-4a0d-8932-31873f163bd6"
      },
      "execution_count": null,
      "outputs": [
        {
          "name": "stdout",
          "output_type": "stream",
          "text": [
            "How many files u want to upload\n",
            "3\n"
          ]
        }
      ]
    },
    {
      "cell_type": "markdown",
      "source": [
        "#### ** Upload files in S3 Bucket**"
      ],
      "metadata": {
        "id": "nnQYMzGxyMgd"
      }
    },
    {
      "cell_type": "code",
      "source": [
        "import os\n",
        "import random\n",
        "\n",
        "ZipFile_Files = os.listdir('/content/Company Facts')\n",
        "data_file = '/content/Company Facts/'\n",
        "Files = [x for x in ZipFile_Files if x.startswith('C') and os.path.getsize('/content/Company Facts/'+x) < 50000]\n",
        "\n",
        "for i in range(num):\n",
        "  l = len(Files)\n",
        "  random_position = random.randrange(1, l)\n",
        "  file_name = Files[random_position]\n",
        "  file_path = data_file + file_name\n",
        "  client.upload_file(file_path,'companyfactsbucket',file_name)\n",
        "  del Files[random_position]"
      ],
      "metadata": {
        "id": "No8agaQ7yTbO"
      },
      "execution_count": null,
      "outputs": []
    },
    {
      "cell_type": "markdown",
      "source": [],
      "metadata": {
        "id": "eQVTwSqjL7te"
      }
    }
  ]
}