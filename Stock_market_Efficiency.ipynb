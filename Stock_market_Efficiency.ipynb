{
  "nbformat": 4,
  "nbformat_minor": 0,
  "metadata": {
    "colab": {
      "provenance": []
    },
    "kernelspec": {
      "name": "python3",
      "display_name": "Python 3"
    },
    "language_info": {
      "name": "python"
    }
  },
  "cells": [
    {
      "cell_type": "markdown",
      "source": [
        "#**Stock Market Efficiency**\n",
        "Develop a pipeline where we hit NSE Stock Market API from RAPIDAPI website each minute & send data to AWS SQS. Once 10 records are accumulated in SQS, a Lambda function will be triggered to process the data & store it in Dynamo DB with current date & time."
      ],
      "metadata": {
        "id": "wOnTPyOPJght"
      }
    },
    {
      "cell_type": "markdown",
      "source": [
        "####**Installing Boto Library**"
      ],
      "metadata": {
        "id": "ZMarFo-4KUgl"
      }
    },
    {
      "cell_type": "code",
      "source": [
        "! pip install boto3"
      ],
      "metadata": {
        "colab": {
          "base_uri": "https://localhost:8080/"
        },
        "id": "Q7AYWvslKUoq",
        "outputId": "87d173df-1875-4769-f7b8-d450ff195e2d"
      },
      "execution_count": null,
      "outputs": [
        {
          "output_type": "stream",
          "name": "stdout",
          "text": [
            "Collecting boto3\n",
            "  Downloading boto3-1.34.138-py3-none-any.whl (139 kB)\n",
            "\u001b[2K     \u001b[90m━━━━━━━━━━━━━━━━━━━━━━━━━━━━━━━━━━━━━━━━\u001b[0m \u001b[32m139.2/139.2 kB\u001b[0m \u001b[31m982.9 kB/s\u001b[0m eta \u001b[36m0:00:00\u001b[0m\n",
            "\u001b[?25hCollecting botocore<1.35.0,>=1.34.138 (from boto3)\n",
            "  Downloading botocore-1.34.138-py3-none-any.whl (12.4 MB)\n",
            "\u001b[2K     \u001b[90m━━━━━━━━━━━━━━━━━━━━━━━━━━━━━━━━━━━━━━━━\u001b[0m \u001b[32m12.4/12.4 MB\u001b[0m \u001b[31m37.5 MB/s\u001b[0m eta \u001b[36m0:00:00\u001b[0m\n",
            "\u001b[?25hCollecting jmespath<2.0.0,>=0.7.1 (from boto3)\n",
            "  Downloading jmespath-1.0.1-py3-none-any.whl (20 kB)\n",
            "Collecting s3transfer<0.11.0,>=0.10.0 (from boto3)\n",
            "  Downloading s3transfer-0.10.2-py3-none-any.whl (82 kB)\n",
            "\u001b[2K     \u001b[90m━━━━━━━━━━━━━━━━━━━━━━━━━━━━━━━━━━━━━━━━\u001b[0m \u001b[32m82.7/82.7 kB\u001b[0m \u001b[31m7.0 MB/s\u001b[0m eta \u001b[36m0:00:00\u001b[0m\n",
            "\u001b[?25hRequirement already satisfied: python-dateutil<3.0.0,>=2.1 in /usr/local/lib/python3.10/dist-packages (from botocore<1.35.0,>=1.34.138->boto3) (2.8.2)\n",
            "Requirement already satisfied: urllib3!=2.2.0,<3,>=1.25.4 in /usr/local/lib/python3.10/dist-packages (from botocore<1.35.0,>=1.34.138->boto3) (2.0.7)\n",
            "Requirement already satisfied: six>=1.5 in /usr/local/lib/python3.10/dist-packages (from python-dateutil<3.0.0,>=2.1->botocore<1.35.0,>=1.34.138->boto3) (1.16.0)\n",
            "Installing collected packages: jmespath, botocore, s3transfer, boto3\n",
            "Successfully installed boto3-1.34.138 botocore-1.34.138 jmespath-1.0.1 s3transfer-0.10.2\n"
          ]
        }
      ]
    },
    {
      "cell_type": "markdown",
      "source": [
        "#### **Importing All Neccessary Libraries**"
      ],
      "metadata": {
        "id": "c7roro1aJ_dB"
      }
    },
    {
      "cell_type": "code",
      "source": [
        "import requests\n",
        "import boto3\n",
        "import time\n",
        "import json"
      ],
      "metadata": {
        "id": "iWOkgKyMJf1O"
      },
      "execution_count": null,
      "outputs": []
    },
    {
      "cell_type": "markdown",
      "source": [
        "####**Connect to AWS using Boto Client**"
      ],
      "metadata": {
        "id": "w17ofLGOLl97"
      }
    },
    {
      "cell_type": "code",
      "source": [
        "access_key='YOUR_ACCESS_KEY'\n",
        "secret_access_key='YOUR_SECRET_ACCESS_KEY'\n",
        "region = 'us-east-1'\n",
        "\n",
        "#Use boto3 client to connect with S3\n",
        "client = boto3.client(\n",
        "    'sqs',\n",
        "    aws_access_key_id=access_key,\n",
        "    aws_secret_access_key=secret_access_key,\n",
        "    region_name=region\n",
        ")"
      ],
      "metadata": {
        "id": "p7V3ELWlLmCN"
      },
      "execution_count": null,
      "outputs": []
    },
    {
      "cell_type": "markdown",
      "source": [
        "#### **Create SQS Queue**"
      ],
      "metadata": {
        "id": "5E8jX0c8Ni3C"
      }
    },
    {
      "cell_type": "code",
      "source": [
        "def create_queue():\n",
        "    response = client.create_queue(\n",
        "        QueueName=\"my-sqs-queue\",\n",
        "        Attributes={\n",
        "            \"DelaySeconds\": \"0\",\n",
        "            \"VisibilityTimeout\": \"60\",\n",
        "        }\n",
        "    )\n",
        "    print(response)"
      ],
      "metadata": {
        "id": "j1OhB3MsNi8I"
      },
      "execution_count": null,
      "outputs": []
    },
    {
      "cell_type": "markdown",
      "source": [
        "####**Getting the Name of stock**"
      ],
      "metadata": {
        "id": "I42fJ91-KhBa"
      }
    },
    {
      "cell_type": "code",
      "source": [
        "def getName():\n",
        "  ip = input(\"Please Enter the Stock Name\")\n",
        "  stock = {\"symbol\": ip}\n",
        "  return stock"
      ],
      "metadata": {
        "id": "IKOqImSYKhIb"
      },
      "execution_count": null,
      "outputs": []
    },
    {
      "cell_type": "markdown",
      "source": [
        "#### **Fetching Stock Data from NSE Market API**"
      ],
      "metadata": {
        "id": "eb8fAT2QLC65"
      }
    },
    {
      "cell_type": "code",
      "source": [
        "def getData(stock):\n",
        "  url = \"https://nse-market.p.rapidapi.com/stock_metrics\"\n",
        "  headers = {\n",
        "\t\"x-rapidapi-key\": \"84948a2b71mshcfc40c32a46b15ep119225jsn279efff5e964\",\n",
        "\t\"x-rapidapi-host\": \"nse-market.p.rapidapi.com\"\n",
        "  }\n",
        "  res = requests.get(url, headers=headers, params=stock)\n",
        "  return res.json()"
      ],
      "metadata": {
        "id": "s-_vrEEfLDA_"
      },
      "execution_count": null,
      "outputs": []
    },
    {
      "cell_type": "markdown",
      "source": [
        "#### **Passing Data to AWS SQS**"
      ],
      "metadata": {
        "id": "h9TDczTlL5n6"
      }
    },
    {
      "cell_type": "code",
      "source": [
        "def sendMessage(data):\n",
        "  try:\n",
        "    queue = client.get_queue_url(QueueName='mysqsqueue')\n",
        "    response = client.send_message(\n",
        "        QueueUrl=queue['QueueUrl'],\n",
        "        MessageBody=json.dumps(data)\n",
        ")\n",
        "    print(response)\n",
        "  except Exception as e:\n",
        "    print(\"Error in sending message \\n{}\".format(e))\n",
        "    return response"
      ],
      "metadata": {
        "id": "z-C4DKY8L5wC"
      },
      "execution_count": null,
      "outputs": []
    },
    {
      "cell_type": "markdown",
      "source": [
        "#### **Main Function**"
      ],
      "metadata": {
        "id": "y51ffoszMJcZ"
      }
    },
    {
      "cell_type": "code",
      "source": [
        "if __name__ == \"__main__\":\n",
        "  name = getName()\n",
        "  for i in range(15):\n",
        "    time.sleep(30)\n",
        "    data = getData(name)\n",
        "    response = sendMessage(data)\n",
        "    print(response)"
      ],
      "metadata": {
        "colab": {
          "base_uri": "https://localhost:8080/"
        },
        "id": "KW62zxZeMJo8",
        "outputId": "e2a0307a-1248-4269-c0ff-da95254b226a"
      },
      "execution_count": null,
      "outputs": [
        {
          "output_type": "stream",
          "name": "stdout",
          "text": [
            "Please Enter the Stock Namewipro\n",
            "{'MD5OfMessageBody': 'f5b35085e5fa271b43c2bde6c92853dd', 'MessageId': '16362ac6-28e0-4d4a-9312-e034928c8ef3', 'ResponseMetadata': {'RequestId': '56e98667-7e44-55d1-9b7c-d8987cba540f', 'HTTPStatusCode': 200, 'HTTPHeaders': {'x-amzn-requestid': '56e98667-7e44-55d1-9b7c-d8987cba540f', 'date': 'Wed, 03 Jul 2024 07:41:50 GMT', 'content-type': 'application/x-amz-json-1.0', 'content-length': '106', 'connection': 'keep-alive'}, 'RetryAttempts': 0}}\n",
            "None\n",
            "{'MD5OfMessageBody': 'f5b35085e5fa271b43c2bde6c92853dd', 'MessageId': '2d7e3f81-b652-49b4-89b4-cb9384865f5c', 'ResponseMetadata': {'RequestId': 'b4066965-d06d-5dbd-ad35-379ad370bc63', 'HTTPStatusCode': 200, 'HTTPHeaders': {'x-amzn-requestid': 'b4066965-d06d-5dbd-ad35-379ad370bc63', 'date': 'Wed, 03 Jul 2024 07:42:21 GMT', 'content-type': 'application/x-amz-json-1.0', 'content-length': '106', 'connection': 'keep-alive'}, 'RetryAttempts': 0}}\n",
            "None\n",
            "{'MD5OfMessageBody': 'f5b35085e5fa271b43c2bde6c92853dd', 'MessageId': 'de928434-cf28-4998-b694-a1f37a8aa704', 'ResponseMetadata': {'RequestId': '6ea65f01-14a7-5af9-bc73-01fe179b8b27', 'HTTPStatusCode': 200, 'HTTPHeaders': {'x-amzn-requestid': '6ea65f01-14a7-5af9-bc73-01fe179b8b27', 'date': 'Wed, 03 Jul 2024 07:42:52 GMT', 'content-type': 'application/x-amz-json-1.0', 'content-length': '106', 'connection': 'keep-alive'}, 'RetryAttempts': 0}}\n",
            "None\n",
            "{'MD5OfMessageBody': 'f5b35085e5fa271b43c2bde6c92853dd', 'MessageId': '4cfc82b8-564a-4059-b6dc-7f77d63ce81c', 'ResponseMetadata': {'RequestId': 'd0891275-0f64-5e25-b680-4c8a0c38affb', 'HTTPStatusCode': 200, 'HTTPHeaders': {'x-amzn-requestid': 'd0891275-0f64-5e25-b680-4c8a0c38affb', 'date': 'Wed, 03 Jul 2024 07:43:24 GMT', 'content-type': 'application/x-amz-json-1.0', 'content-length': '106', 'connection': 'keep-alive'}, 'RetryAttempts': 0}}\n",
            "None\n",
            "{'MD5OfMessageBody': 'f5b35085e5fa271b43c2bde6c92853dd', 'MessageId': '4a105563-7401-45bf-9e15-b465f769117a', 'ResponseMetadata': {'RequestId': '350f7246-99ce-5741-b298-2cb99ab5069f', 'HTTPStatusCode': 200, 'HTTPHeaders': {'x-amzn-requestid': '350f7246-99ce-5741-b298-2cb99ab5069f', 'date': 'Wed, 03 Jul 2024 07:43:55 GMT', 'content-type': 'application/x-amz-json-1.0', 'content-length': '106', 'connection': 'keep-alive'}, 'RetryAttempts': 0}}\n",
            "None\n",
            "{'MD5OfMessageBody': 'f5b35085e5fa271b43c2bde6c92853dd', 'MessageId': 'e4749041-5846-4326-8d00-22ccfe1379fe', 'ResponseMetadata': {'RequestId': '1dca3b90-3440-5e0a-824c-656f37da5fd4', 'HTTPStatusCode': 200, 'HTTPHeaders': {'x-amzn-requestid': '1dca3b90-3440-5e0a-824c-656f37da5fd4', 'date': 'Wed, 03 Jul 2024 07:44:26 GMT', 'content-type': 'application/x-amz-json-1.0', 'content-length': '106', 'connection': 'keep-alive'}, 'RetryAttempts': 0}}\n",
            "None\n",
            "{'MD5OfMessageBody': 'f5b35085e5fa271b43c2bde6c92853dd', 'MessageId': 'ee3153ab-2b87-40a2-8a5e-36f8ef5f1f7e', 'ResponseMetadata': {'RequestId': 'c7e15f81-eb5e-5aed-b0f2-017ee8e78b33', 'HTTPStatusCode': 200, 'HTTPHeaders': {'x-amzn-requestid': 'c7e15f81-eb5e-5aed-b0f2-017ee8e78b33', 'date': 'Wed, 03 Jul 2024 07:44:57 GMT', 'content-type': 'application/x-amz-json-1.0', 'content-length': '106', 'connection': 'keep-alive'}, 'RetryAttempts': 0}}\n",
            "None\n",
            "{'MD5OfMessageBody': 'f5b35085e5fa271b43c2bde6c92853dd', 'MessageId': 'bd87f1b7-87b5-40b2-8b31-69770876b27f', 'ResponseMetadata': {'RequestId': 'a5fd3f2b-e8f9-5625-aba8-61d4eb2007fb', 'HTTPStatusCode': 200, 'HTTPHeaders': {'x-amzn-requestid': 'a5fd3f2b-e8f9-5625-aba8-61d4eb2007fb', 'date': 'Wed, 03 Jul 2024 07:45:29 GMT', 'content-type': 'application/x-amz-json-1.0', 'content-length': '106', 'connection': 'keep-alive'}, 'RetryAttempts': 0}}\n",
            "None\n",
            "{'MD5OfMessageBody': 'f5b35085e5fa271b43c2bde6c92853dd', 'MessageId': '8ec147ad-22cc-44f6-8fb1-fc9eceb805ed', 'ResponseMetadata': {'RequestId': '24e866ef-08eb-5890-b49f-38100b137db7', 'HTTPStatusCode': 200, 'HTTPHeaders': {'x-amzn-requestid': '24e866ef-08eb-5890-b49f-38100b137db7', 'date': 'Wed, 03 Jul 2024 07:46:00 GMT', 'content-type': 'application/x-amz-json-1.0', 'content-length': '106', 'connection': 'keep-alive'}, 'RetryAttempts': 0}}\n",
            "None\n",
            "{'MD5OfMessageBody': 'f5b35085e5fa271b43c2bde6c92853dd', 'MessageId': 'a5df0d3b-4a54-4641-b06b-0d8343f5bf2a', 'ResponseMetadata': {'RequestId': 'c8e4314f-3d08-558a-9343-6fb0391f20ad', 'HTTPStatusCode': 200, 'HTTPHeaders': {'x-amzn-requestid': 'c8e4314f-3d08-558a-9343-6fb0391f20ad', 'date': 'Wed, 03 Jul 2024 07:46:31 GMT', 'content-type': 'application/x-amz-json-1.0', 'content-length': '106', 'connection': 'keep-alive'}, 'RetryAttempts': 0}}\n",
            "None\n",
            "{'MD5OfMessageBody': 'f5b35085e5fa271b43c2bde6c92853dd', 'MessageId': 'd5684787-8515-454f-bea9-4bbcca74ad8a', 'ResponseMetadata': {'RequestId': 'f390d7d4-b203-5462-a4d6-892bb6353145', 'HTTPStatusCode': 200, 'HTTPHeaders': {'x-amzn-requestid': 'f390d7d4-b203-5462-a4d6-892bb6353145', 'date': 'Wed, 03 Jul 2024 07:47:03 GMT', 'content-type': 'application/x-amz-json-1.0', 'content-length': '106', 'connection': 'keep-alive'}, 'RetryAttempts': 0}}\n",
            "None\n",
            "{'MD5OfMessageBody': 'f5b35085e5fa271b43c2bde6c92853dd', 'MessageId': '33122f32-4bad-4a8c-9fd7-d8afd091eba5', 'ResponseMetadata': {'RequestId': '9cecaabb-2826-5b17-b2a5-f4442c702e30', 'HTTPStatusCode': 200, 'HTTPHeaders': {'x-amzn-requestid': '9cecaabb-2826-5b17-b2a5-f4442c702e30', 'date': 'Wed, 03 Jul 2024 07:47:34 GMT', 'content-type': 'application/x-amz-json-1.0', 'content-length': '106', 'connection': 'keep-alive'}, 'RetryAttempts': 0}}\n",
            "None\n",
            "{'MD5OfMessageBody': 'f5b35085e5fa271b43c2bde6c92853dd', 'MessageId': 'f87e772a-55b1-4346-9007-739d3b94107b', 'ResponseMetadata': {'RequestId': '5d70d425-0777-5606-b142-8ada03029321', 'HTTPStatusCode': 200, 'HTTPHeaders': {'x-amzn-requestid': '5d70d425-0777-5606-b142-8ada03029321', 'date': 'Wed, 03 Jul 2024 07:48:05 GMT', 'content-type': 'application/x-amz-json-1.0', 'content-length': '106', 'connection': 'keep-alive'}, 'RetryAttempts': 0}}\n",
            "None\n",
            "{'MD5OfMessageBody': 'f5b35085e5fa271b43c2bde6c92853dd', 'MessageId': 'c3743eac-8908-4c2c-805d-be58bf0531dc', 'ResponseMetadata': {'RequestId': '81bb219f-17ea-5052-8d6f-7f60137e1575', 'HTTPStatusCode': 200, 'HTTPHeaders': {'x-amzn-requestid': '81bb219f-17ea-5052-8d6f-7f60137e1575', 'date': 'Wed, 03 Jul 2024 07:48:36 GMT', 'content-type': 'application/x-amz-json-1.0', 'content-length': '106', 'connection': 'keep-alive'}, 'RetryAttempts': 0}}\n",
            "None\n",
            "{'MD5OfMessageBody': 'f5b35085e5fa271b43c2bde6c92853dd', 'MessageId': '05a72a2c-28fc-45e1-b80f-481b3a3aaba6', 'ResponseMetadata': {'RequestId': 'cbe27177-6d49-5a15-b7e3-2f8869fadf32', 'HTTPStatusCode': 200, 'HTTPHeaders': {'x-amzn-requestid': 'cbe27177-6d49-5a15-b7e3-2f8869fadf32', 'date': 'Wed, 03 Jul 2024 07:49:07 GMT', 'content-type': 'application/x-amz-json-1.0', 'content-length': '106', 'connection': 'keep-alive'}, 'RetryAttempts': 0}}\n",
            "None\n"
          ]
        }
      ]
    },
    {
      "cell_type": "code",
      "source": [],
      "metadata": {
        "id": "7c0qXAHFhJ6U"
      },
      "execution_count": null,
      "outputs": []
    }
  ]
}